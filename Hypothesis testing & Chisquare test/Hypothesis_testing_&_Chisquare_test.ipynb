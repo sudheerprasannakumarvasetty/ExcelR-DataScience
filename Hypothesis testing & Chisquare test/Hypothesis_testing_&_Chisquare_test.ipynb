{
  "cells": [
    {
      "cell_type": "markdown",
      "metadata": {
        "id": "Xe4tfcJ0Oun3"
      },
      "source": [
        "# Chi-Square Test and Hypothesis Testing\n",
        "This notebook contains two statistical analyses:\n",
        "1. **Chi-Square Test for Association** between smart device type and customer satisfaction.\n",
        "2. **Z-Test for Mean** to verify whether restaurant operating costs are higher than expected."
      ],
      "id": "Xe4tfcJ0Oun3"
    },
    {
      "cell_type": "code",
      "metadata": {
        "colab": {
          "base_uri": "https://localhost:8080/"
        },
        "id": "Br8dxt6nOun4",
        "outputId": "b5bb511c-340b-4e2b-e318-84fac2ce4d4b"
      },
      "execution_count": 1,
      "outputs": [
        {
          "output_type": "stream",
          "name": "stdout",
          "text": [
            "Chi-Square Test for Independence\n",
            "Chi-Square Statistic: 5.64\n",
            "Degrees of Freedom: 4\n",
            "Critical Value at alpha=0.05: 9.49\n",
            "P-Value: 0.2278\n",
            "Decision: Fail to Reject Null Hypothesis\n"
          ]
        }
      ],
      "source": [
        "# Chi-Square Test for Independence\n",
        "import scipy.stats as stats\n",
        "import pandas as pd\n",
        "import numpy as np\n",
        "\n",
        "# Observed Frequencies\n",
        "data = {\n",
        "    \"Very Satisfied\": [50, 70],\n",
        "    \"Satisfied\": [80, 100],\n",
        "    \"Neutral\": [60, 90],\n",
        "    \"Unsatisfied\": [30, 50],\n",
        "    \"Very Unsatisfied\": [20, 50]\n",
        "}\n",
        "index = [\"Smart Thermostat\", \"Smart Light\"]\n",
        "df = pd.DataFrame(data, index=index)\n",
        "\n",
        "# Chi-Square Test\n",
        "chi2_stat, p_val, dof, expected = stats.chi2_contingency(df)\n",
        "\n",
        "# Critical Value\n",
        "alpha = 0.05\n",
        "critical_value = stats.chi2.ppf(q=1-alpha, df=dof)\n",
        "\n",
        "# Decision\n",
        "conclusion = \"Reject Null Hypothesis\" if chi2_stat > critical_value else \"Fail to Reject Null Hypothesis\"\n",
        "\n",
        "print(\"Chi-Square Test for Independence\")\n",
        "print(f\"Chi-Square Statistic: {chi2_stat:.2f}\")\n",
        "print(f\"Degrees of Freedom: {dof}\")\n",
        "print(f\"Critical Value at alpha=0.05: {critical_value:.2f}\")\n",
        "print(f\"P-Value: {p_val:.4f}\")\n",
        "print(f\"Decision: {conclusion}\")"
      ],
      "id": "Br8dxt6nOun4"
    },
    {
      "cell_type": "code",
      "metadata": {
        "colab": {
          "base_uri": "https://localhost:8080/"
        },
        "id": "6UHLO9JrOun4",
        "outputId": "425c2532-e2e0-4df0-9e44-49a3d3f1a101"
      },
      "execution_count": 3,
      "outputs": [
        {
          "output_type": "stream",
          "name": "stdout",
          "text": [
            "\n",
            "Hypothesis Testing for Weekly Operating Costs\n",
            "Sample Mean: 3050\n",
            "Theoretical Mean: 4000\n",
            "Test Statistic (Z): -38.00\n",
            "Critical Value at alpha=0.05: 1.64\n",
            "Decision: Fail to Reject Null Hypothesis\n"
          ]
        }
      ],
      "source": [
        "# Hypothesis Testing for Weekly Operating Costs\n",
        "# Hypotheses\n",
        "# H0: Mean weekly cost = Theoretical cost\n",
        "# H1: Mean weekly cost > Theoretical cost (claim: higher cost)\n",
        "\n",
        "# Test Statistic\n",
        "x_bar = 3050\n",
        "X = 600\n",
        "mu = 1000 + 5 * X\n",
        "sigma = 5 * 25\n",
        "n = 25\n",
        "\n",
        "z = (x_bar - mu) / (sigma / np.sqrt(n))\n",
        "\n",
        "alpha = 0.05 # Critical Value\n",
        "z_critical = stats.norm.ppf(1 - alpha)\n",
        "\n",
        "# Decision\n",
        "decision = \"Reject Null Hypothesis\" if z > z_critical else \"Fail to Reject Null Hypothesis\"\n",
        "\n",
        "# Conclusion\n",
        "print(\"\\nHypothesis Testing for Weekly Operating Costs\")\n",
        "print(f\"Sample Mean: {x_bar}\")\n",
        "print(f\"Theoretical Mean: {mu}\")\n",
        "print(f\"Test Statistic (Z): {z:.2f}\")\n",
        "print(f\"Critical Value at alpha=0.05: {z_critical:.2f}\")\n",
        "print(f\"Decision: {decision}\")"
      ],
      "id": "6UHLO9JrOun4"
    },
    {
      "cell_type": "code",
      "source": [
        "# Conclusion\n",
        "if decision == \"Reject Null Hypothesis\":\n",
        "    print(\"There is strong evidence that the weekly operating costs are higher than the model suggests.\")\n",
        "else:\n",
        "    print(\"There is not enough evidence to support the claim that the weekly operating costs are higher.\")"
      ],
      "metadata": {
        "colab": {
          "base_uri": "https://localhost:8080/"
        },
        "id": "l9GDsGsl120V",
        "outputId": "6cb3fe1b-4d93-4f48-dfcd-b1b48112f250"
      },
      "id": "l9GDsGsl120V",
      "execution_count": 5,
      "outputs": [
        {
          "output_type": "stream",
          "name": "stdout",
          "text": [
            "There is not enough evidence to support the claim that the weekly operating costs are higher.\n"
          ]
        }
      ]
    }
  ],
  "metadata": {
    "kernelspec": {
      "display_name": "Python 3",
      "language": "python",
      "name": "python3"
    },
    "language_info": {
      "name": "python",
      "version": "3.x"
    },
    "colab": {
      "provenance": []
    }
  },
  "nbformat": 4,
  "nbformat_minor": 5
}