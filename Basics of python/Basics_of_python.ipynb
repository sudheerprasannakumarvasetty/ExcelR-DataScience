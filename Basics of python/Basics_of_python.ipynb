{
  "nbformat": 4,
  "nbformat_minor": 0,
  "metadata": {
    "colab": {
      "provenance": []
    },
    "kernelspec": {
      "name": "python3",
      "display_name": "Python 3"
    },
    "language_info": {
      "name": "python"
    }
  },
  "cells": [
    {
      "cell_type": "code",
      "source": [
        "# Write a Python program that checks whether a given number is prime or not. A prime number is a natural number greater than 1 that has no positive divisors other than 1 and itself.\n",
        "def is_prime(n):\n",
        "    if n <= 1:\n",
        "        return False\n",
        "    for i in range(2, int(n**0.5) + 1):\n",
        "        if n % i == 0:\n",
        "            return False\n",
        "    return True\n",
        "num = 30\n",
        "print(f\"Is {num} a prime number?\", is_prime(num))"
      ],
      "metadata": {
        "colab": {
          "base_uri": "https://localhost:8080/"
        },
        "id": "Po-WCvXp3rpJ",
        "outputId": "c6d3dc6f-6831-4d5a-d191-52c18aeea80d"
      },
      "execution_count": 24,
      "outputs": [
        {
          "output_type": "stream",
          "name": "stdout",
          "text": [
            "Is 30 a prime number? False\n"
          ]
        }
      ]
    },
    {
      "cell_type": "code",
      "source": [
        "# Develop a Python program that generates two random numbers and asks the user to enter the product of these numbers. The program should then check if the user's answer is correct and display an appropriate message.\n",
        "import random\n",
        "n1 = random.randint(1, 10)\n",
        "n2 = random.randint(1, 10)\n",
        "print(f\"What is the product of {n1} and {n2}?\")\n",
        "user_ans = int(input(\"Enter your answer: \"))\n",
        "if user_ans == n1 * n2:\n",
        "    print(\"Correct!\")\n",
        "else:\n",
        "    print(f\"Wrong! The correct answer is {n1 * n2}.\")"
      ],
      "metadata": {
        "colab": {
          "base_uri": "https://localhost:8080/"
        },
        "id": "QzSLe9ym3-QC",
        "outputId": "ddc95fd6-05e3-4e10-f1db-66a06a1d002b"
      },
      "execution_count": 23,
      "outputs": [
        {
          "output_type": "stream",
          "name": "stdout",
          "text": [
            "What is the product of 8 and 8?\n",
            "Enter your answer: 64\n",
            "Correct!\n"
          ]
        }
      ]
    },
    {
      "cell_type": "code",
      "source": [
        "# Create a Python script that prints the squares of all even or odd numbers within the range of 100 to 200. Choose either even or odd numbers and document your choice in the code.\n",
        "print(\"Squares of odd numbers from 100 to 200:\")\n",
        "for i in range(101, 201, 2):\n",
        "    print(f\"{i}^2 = {i**2}\")"
      ],
      "metadata": {
        "colab": {
          "base_uri": "https://localhost:8080/"
        },
        "id": "KkyPgaZ44iMO",
        "outputId": "c8e00aad-c03f-4b7b-8433-20071a77b964"
      },
      "execution_count": 28,
      "outputs": [
        {
          "output_type": "stream",
          "name": "stdout",
          "text": [
            "Squares of odd numbers from 100 to 200:\n",
            "101^2 = 10201\n",
            "103^2 = 10609\n",
            "105^2 = 11025\n",
            "107^2 = 11449\n",
            "109^2 = 11881\n",
            "111^2 = 12321\n",
            "113^2 = 12769\n",
            "115^2 = 13225\n",
            "117^2 = 13689\n",
            "119^2 = 14161\n",
            "121^2 = 14641\n",
            "123^2 = 15129\n",
            "125^2 = 15625\n",
            "127^2 = 16129\n",
            "129^2 = 16641\n",
            "131^2 = 17161\n",
            "133^2 = 17689\n",
            "135^2 = 18225\n",
            "137^2 = 18769\n",
            "139^2 = 19321\n",
            "141^2 = 19881\n",
            "143^2 = 20449\n",
            "145^2 = 21025\n",
            "147^2 = 21609\n",
            "149^2 = 22201\n",
            "151^2 = 22801\n",
            "153^2 = 23409\n",
            "155^2 = 24025\n",
            "157^2 = 24649\n",
            "159^2 = 25281\n",
            "161^2 = 25921\n",
            "163^2 = 26569\n",
            "165^2 = 27225\n",
            "167^2 = 27889\n",
            "169^2 = 28561\n",
            "171^2 = 29241\n",
            "173^2 = 29929\n",
            "175^2 = 30625\n",
            "177^2 = 31329\n",
            "179^2 = 32041\n",
            "181^2 = 32761\n",
            "183^2 = 33489\n",
            "185^2 = 34225\n",
            "187^2 = 34969\n",
            "189^2 = 35721\n",
            "191^2 = 36481\n",
            "193^2 = 37249\n",
            "195^2 = 38025\n",
            "197^2 = 38809\n",
            "199^2 = 39601\n"
          ]
        }
      ]
    },
    {
      "cell_type": "code",
      "source": [
        "# write a program to count the number of words in a given text.\n",
        "text = \"What was beyond the bend in the stream was unknown. Both were curious, but only one was brave enough to want to explore. That was the problem. There was always one that let fear rule her life.\"\n",
        "words = text.split()\n",
        "word_counts = {}\n",
        "for word in words:\n",
        "    word = word.strip().lower()\n",
        "    if word in word_counts:\n",
        "        word_counts[word] += 1\n",
        "    else:\n",
        "        word_counts[word] = 1\n",
        "print(\"\\nWord frequencies:\")\n",
        "for word, count in word_counts.items():\n",
        "    print(f\"'{word}': {count}\")"
      ],
      "metadata": {
        "colab": {
          "base_uri": "https://localhost:8080/"
        },
        "id": "gglaw0nm4iuk",
        "outputId": "3c0f5337-37ee-479e-9762-65a84117d6ee"
      },
      "execution_count": 20,
      "outputs": [
        {
          "output_type": "stream",
          "name": "stdout",
          "text": [
            "\n",
            "Word frequencies:\n",
            "'what': 1\n",
            "'was': 5\n",
            "'beyond': 1\n",
            "'the': 3\n",
            "'bend': 1\n",
            "'in': 1\n",
            "'stream': 1\n",
            "'unknown.': 1\n",
            "'both': 1\n",
            "'were': 1\n",
            "'curious,': 1\n",
            "'but': 1\n",
            "'only': 1\n",
            "'one': 2\n",
            "'brave': 1\n",
            "'enough': 1\n",
            "'to': 2\n",
            "'want': 1\n",
            "'explore.': 1\n",
            "'that': 2\n",
            "'problem.': 1\n",
            "'there': 1\n",
            "'always': 1\n",
            "'let': 1\n",
            "'fear': 1\n",
            "'rule': 1\n",
            "'her': 1\n",
            "'life.': 1\n"
          ]
        }
      ]
    },
    {
      "cell_type": "code",
      "source": [
        "# Write a Python function called is_palindrome that takes a string as input and returns True if the string is a palindrome, and False otherwise. A palindrome is a word, phrase, number, or other sequence of characters that reads the same forward and backward, ignoring spaces, punctuation, and capitalization.\n",
        "def is_palindrome(text):\n",
        "    cln = ''.join(c.lower() for c in text if c.isalnum())\n",
        "    return cln == cln[::-1]\n",
        "\n",
        "R_text = \"Racecar\"\n",
        "print(f\"\\nIs '{R_text}' a palindrome?\", is_palindrome(R_text))"
      ],
      "metadata": {
        "colab": {
          "base_uri": "https://localhost:8080/"
        },
        "id": "BUwBBIkE476O",
        "outputId": "88cb3bf5-486f-4406-99d5-23c38063c3b3"
      },
      "execution_count": 27,
      "outputs": [
        {
          "output_type": "stream",
          "name": "stdout",
          "text": [
            "\n",
            "Is 'Racecar' a palindrome? True\n"
          ]
        }
      ]
    }
  ]
}