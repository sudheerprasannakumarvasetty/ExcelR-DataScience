{
  "cells": [
    {
      "cell_type": "markdown",
      "id": "945bd030",
      "metadata": {
        "panel-layout": {
          "height": 129.797,
          "visible": true,
          "width": 100
        },
        "id": "945bd030"
      },
      "source": [
        "# Estimation and Confidence Intervals\n",
        "\n",
        "### Scenario:\n",
        "A manufacturer of print-heads wants to estimate the mean durability (in millions of characters) of their product using a small sample due to destructive testing.\n",
        "\n",
        "---"
      ]
    },
    {
      "cell_type": "code",
      "execution_count": null,
      "id": "b2716474",
      "metadata": {
        "id": "b2716474"
      },
      "outputs": [],
      "source": [
        "import numpy as np\n",
        "from scipy import stats\n",
        "data = [1.13, 1.55, 1.43, 0.92, 1.25, 1.36, 1.32, 0.85, 1.07, 1.48,\n",
        "        1.20, 1.33, 1.18, 1.22, 1.29]\n",
        "n = len(data)\n",
        "mean = np.mean(data)\n",
        "sample_std = np.std(data, ddof=1)\n",
        "confidence = 0.99\n",
        "df = n - 1"
      ]
    },
    {
      "cell_type": "markdown",
      "id": "ccdacd27",
      "metadata": {
        "panel-layout": {
          "height": 50.7969,
          "visible": true,
          "width": 100
        },
        "id": "ccdacd27"
      },
      "source": [
        "## a. 99% Confidence Interval Using Sample Standard Deviation (t-distribution)"
      ]
    },
    {
      "cell_type": "code",
      "execution_count": null,
      "id": "03970f78",
      "metadata": {
        "panel-layout": {
          "height": 27.1406,
          "visible": true,
          "width": 100
        },
        "id": "03970f78",
        "outputId": "42d15b37-053f-464a-94e7-4f524a52934d"
      },
      "outputs": [
        {
          "data": {
            "text/plain": [
              "(1.0901973384384906, 1.3871359948948425)"
            ]
          },
          "execution_count": 11,
          "metadata": {},
          "output_type": "execute_result"
        }
      ],
      "source": [
        "t_critical = stats.t.ppf((1 + confidence) / 2, df)\n",
        "se = sample_std / np.sqrt(n)\n",
        "margin_error = t_critical * se\n",
        "ci_lower = mean - margin_error\n",
        "ci_upper = mean + margin_error\n",
        "(ci_lower, ci_upper)"
      ]
    },
    {
      "cell_type": "markdown",
      "id": "8b9d6aae",
      "metadata": {
        "panel-layout": {
          "height": 50.7969,
          "visible": true,
          "width": 100
        },
        "id": "8b9d6aae"
      },
      "source": [
        "## b. 99% Confidence Interval Using Known Population Standard Deviation (Z-distribution)"
      ]
    },
    {
      "cell_type": "code",
      "execution_count": null,
      "id": "ee3a16b3",
      "metadata": {
        "panel-layout": {
          "height": 27.1406,
          "visible": true,
          "width": 100
        },
        "id": "ee3a16b3",
        "outputId": "58195d78-71ec-4a25-fe9a-27ffdc2fa9f2"
      },
      "outputs": [
        {
          "data": {
            "text/plain": [
              "(1.1056514133957607, 1.3716819199375725)"
            ]
          },
          "execution_count": 14,
          "metadata": {},
          "output_type": "execute_result"
        }
      ],
      "source": [
        "pop_std = 0.2\n",
        "z_critical = stats.norm.ppf((1 + confidence) / 2)\n",
        "se_known = pop_std / np.sqrt(n)\n",
        "margin_error_known = z_critical * se_known\n",
        "ci_lower_known = mean - margin_error_known\n",
        "ci_upper_known = mean + margin_error_known\n",
        "(ci_lower_known, ci_upper_known)"
      ]
    },
    {
      "cell_type": "markdown",
      "source": [
        "Based on a sample of 15 print-heads, we estimated their average durability using two methods:\n",
        "\n",
        "* With the sample standard deviation, the 99% confidence interval was [1.090, 1.387] million characters.\n",
        "\n",
        "* Using the known population standard deviation (0.2), the interval was [1.106, 1.372] million characters.\n",
        "\n",
        "Both intervals are close, giving us confidence in the estimate. In simple terms, we can say the true average durability of the print-heads is likely within this range—helping the manufacturer make reliable, cost-effective decisions."
      ],
      "metadata": {
        "id": "Qkl2mFHHdaVU"
      },
      "id": "Qkl2mFHHdaVU"
    }
  ],
  "metadata": {
    "kernelspec": {
      "display_name": "Python [conda env:base] *",
      "language": "python",
      "name": "conda-base-py"
    },
    "language_info": {
      "codemirror_mode": {
        "name": "ipython",
        "version": 3
      },
      "file_extension": ".py",
      "mimetype": "text/x-python",
      "name": "python",
      "nbconvert_exporter": "python",
      "pygments_lexer": "ipython3",
      "version": "3.12.7"
    },
    "panel-cell-order": [
      "945bd030",
      "ccdacd27",
      "03970f78",
      "8b9d6aae",
      "ee3a16b3"
    ],
    "colab": {
      "provenance": []
    }
  },
  "nbformat": 4,
  "nbformat_minor": 5
}